{
  "nbformat": 4,
  "nbformat_minor": 0,
  "metadata": {
    "colab": {
      "provenance": []
    },
    "kernelspec": {
      "name": "python3",
      "display_name": "Python 3"
    },
    "language_info": {
      "name": "python"
    }
  },
  "cells": [
    {
      "cell_type": "markdown",
      "source": [
        "Theoretical Questions"
      ],
      "metadata": {
        "id": "H3D7-YyTcyRg"
      }
    },
    {
      "cell_type": "markdown",
      "source": [
        "1.What are data structures, and why are they important?"
      ],
      "metadata": {
        "id": "-9qwL1LN_6zZ"
      }
    },
    {
      "cell_type": "markdown",
      "source": [
        "A)Data structures is a way of orgnizing and storing data  so one  can use it efficiently in  programs. They help you manage and process data based on the task  working on."
      ],
      "metadata": {
        "id": "zMQUP2LmAW26"
      }
    },
    {
      "cell_type": "markdown",
      "source": [
        "Types of Data structures in Python:\n",
        "1.List: ordered,mutable\n",
        "2.Tuple: ordered,immutable\n",
        "3.Set:Unordered, stores unique\n",
        "4.dictionary:\tKey-value pairs -keys are immutable ,but whole dictionary can be mutable\n",
        "5.string: ordered, immutable"
      ],
      "metadata": {
        "id": "G6RL2sm_AvSI"
      }
    },
    {
      "cell_type": "markdown",
      "source": [
        "Importance of Data Structures:\n",
        "1.efficient Data Handling\n",
        "Data structures help store, organize, and manage data efficiently so programs run faster and use less memory.\n",
        "\n",
        "2.Faster Access and Processing\n",
        "The right data structure allows quick data retrieval, insertion, deletion, and updating.\n",
        "\n",
        "3. Better Problem Solving\n",
        "Many complex problems can be solved easily using appropriate data structures like stacks, queues, trees, and graphs.\n",
        "\n",
        "4. Foundation for Algorithms\n",
        "Algorithms work on data structures. Learning data structures makes understanding algorithms much easier.\n",
        "\n",
        "5. Essential in Real-World Applications\n",
        "Used in databases, search engines, web apps, social media, AI, and more — everywhere data is handled.\n",
        "\n"
      ],
      "metadata": {
        "id": "nc5MQMnlB8pq"
      }
    },
    {
      "cell_type": "markdown",
      "source": [
        "2. Explain the difference between mutable and immutable data types with examples"
      ],
      "metadata": {
        "id": "14OpLk1lC7yL"
      }
    },
    {
      "cell_type": "markdown",
      "source": [
        "A)In Python, data types are classified into mutable and immutable types based on whether their values can be changed after creation.\n",
        "\n",
        "Mutable data types: are those whose content can be modified without changing their identity in memory.\n",
        "Examples include list, dictionary, and set. These allow operations like adding, removing, or updating elements.\n"
      ],
      "metadata": {
        "id": "El6FFlFfDTwK"
      }
    },
    {
      "cell_type": "code",
      "source": [
        "#Example 1\n",
        "# List (mutable)\n",
        "my_list = [1, 2, 3]\n",
        "my_list.append(4)\n",
        "print(my_list)\n"
      ],
      "metadata": {
        "colab": {
          "base_uri": "https://localhost:8080/"
        },
        "id": "E2n8ZTxCD6SE",
        "outputId": "842658f5-6bf3-47cc-e57b-30c1bccf46fc"
      },
      "execution_count": 1,
      "outputs": [
        {
          "output_type": "stream",
          "name": "stdout",
          "text": [
            "[1, 2, 3, 4]\n"
          ]
        }
      ]
    },
    {
      "cell_type": "code",
      "source": [
        "#Example 2\n",
        "# Dictionary (mutable)\n",
        "my_dict = {\"name\": \"Srivani\"}\n",
        "my_dict[\"age\"] = 22\n",
        "print(my_dict)\n"
      ],
      "metadata": {
        "colab": {
          "base_uri": "https://localhost:8080/"
        },
        "id": "1yQVsMRLEGlf",
        "outputId": "24965da6-ac09-4ba7-d1fc-5698fb98f193"
      },
      "execution_count": 2,
      "outputs": [
        {
          "output_type": "stream",
          "name": "stdout",
          "text": [
            "{'name': 'Srivani', 'age': 22}\n"
          ]
        }
      ]
    },
    {
      "cell_type": "markdown",
      "source": [
        "Immutable data types: are those whose content cannot be changed once created. Any modification results in the creation of a new object in memory. Examples of immutable types are int, float, string, and tuple. For instance, if we try to change a character in a string or a value in a tuple, Python will throw an error."
      ],
      "metadata": {
        "id": "SDmJZAStEP84"
      }
    },
    {
      "cell_type": "code",
      "source": [
        "#Example 1\n",
        "# String (immutable)\n",
        "name = \"Srivani\"\n",
        "name[2]=\"ee\"\n",
        "print(name)"
      ],
      "metadata": {
        "colab": {
          "base_uri": "https://localhost:8080/",
          "height": 193
        },
        "id": "VY5hhRMxEkuJ",
        "outputId": "3e1c7419-24da-4065-e961-39d319af6601"
      },
      "execution_count": 4,
      "outputs": [
        {
          "output_type": "error",
          "ename": "TypeError",
          "evalue": "'str' object does not support item assignment",
          "traceback": [
            "\u001b[0;31m---------------------------------------------------------------------------\u001b[0m",
            "\u001b[0;31mTypeError\u001b[0m                                 Traceback (most recent call last)",
            "\u001b[0;32m<ipython-input-4-97a9b2bc4bd2>\u001b[0m in \u001b[0;36m<cell line: 0>\u001b[0;34m()\u001b[0m\n\u001b[1;32m      2\u001b[0m \u001b[0;31m# String (immutable)\u001b[0m\u001b[0;34m\u001b[0m\u001b[0;34m\u001b[0m\u001b[0m\n\u001b[1;32m      3\u001b[0m \u001b[0mname\u001b[0m \u001b[0;34m=\u001b[0m \u001b[0;34m\"Srivani\"\u001b[0m\u001b[0;34m\u001b[0m\u001b[0;34m\u001b[0m\u001b[0m\n\u001b[0;32m----> 4\u001b[0;31m \u001b[0mname\u001b[0m\u001b[0;34m[\u001b[0m\u001b[0;36m2\u001b[0m\u001b[0;34m]\u001b[0m\u001b[0;34m=\u001b[0m\u001b[0;34m\"ee\"\u001b[0m\u001b[0;34m\u001b[0m\u001b[0;34m\u001b[0m\u001b[0m\n\u001b[0m\u001b[1;32m      5\u001b[0m \u001b[0mprint\u001b[0m\u001b[0;34m(\u001b[0m\u001b[0mname\u001b[0m\u001b[0;34m)\u001b[0m\u001b[0;34m\u001b[0m\u001b[0;34m\u001b[0m\u001b[0m\n",
            "\u001b[0;31mTypeError\u001b[0m: 'str' object does not support item assignment"
          ]
        }
      ]
    },
    {
      "cell_type": "code",
      "source": [
        "#Example 2\n",
        "# Tuple (immutable)\n",
        "my_tuple = (1, 2, 3)\n",
        "my_tuple[0] = 10\n"
      ],
      "metadata": {
        "colab": {
          "base_uri": "https://localhost:8080/",
          "height": 176
        },
        "id": "PbCEv4bYFADN",
        "outputId": "4ed4eb94-8ff1-4284-ca6d-1e4b84946a80"
      },
      "execution_count": 5,
      "outputs": [
        {
          "output_type": "error",
          "ename": "TypeError",
          "evalue": "'tuple' object does not support item assignment",
          "traceback": [
            "\u001b[0;31m---------------------------------------------------------------------------\u001b[0m",
            "\u001b[0;31mTypeError\u001b[0m                                 Traceback (most recent call last)",
            "\u001b[0;32m<ipython-input-5-ec37cf86cbbb>\u001b[0m in \u001b[0;36m<cell line: 0>\u001b[0;34m()\u001b[0m\n\u001b[1;32m      2\u001b[0m \u001b[0;31m# Tuple (immutable)\u001b[0m\u001b[0;34m\u001b[0m\u001b[0;34m\u001b[0m\u001b[0m\n\u001b[1;32m      3\u001b[0m \u001b[0mmy_tuple\u001b[0m \u001b[0;34m=\u001b[0m \u001b[0;34m(\u001b[0m\u001b[0;36m1\u001b[0m\u001b[0;34m,\u001b[0m \u001b[0;36m2\u001b[0m\u001b[0;34m,\u001b[0m \u001b[0;36m3\u001b[0m\u001b[0;34m)\u001b[0m\u001b[0;34m\u001b[0m\u001b[0;34m\u001b[0m\u001b[0m\n\u001b[0;32m----> 4\u001b[0;31m \u001b[0mmy_tuple\u001b[0m\u001b[0;34m[\u001b[0m\u001b[0;36m0\u001b[0m\u001b[0;34m]\u001b[0m \u001b[0;34m=\u001b[0m \u001b[0;36m10\u001b[0m\u001b[0;34m\u001b[0m\u001b[0;34m\u001b[0m\u001b[0m\n\u001b[0m",
            "\u001b[0;31mTypeError\u001b[0m: 'tuple' object does not support item assignment"
          ]
        }
      ]
    },
    {
      "cell_type": "markdown",
      "source": [
        "Difference between mutable and immutable types is essential for writing efficient and error-free code, especially when working with functions, loops, and data manipulation."
      ],
      "metadata": {
        "id": "4P5h1yi-EfNS"
      }
    },
    {
      "cell_type": "markdown",
      "source": [
        "3. What are the main differences between lists and tuples in Python?"
      ],
      "metadata": {
        "id": "vqb3nsx2FTLa"
      }
    },
    {
      "cell_type": "markdown",
      "source": [
        "A)In Python, both lists and tuples are used to store a collection of items.\n",
        "1.The main difference lies in their mutability. Lists are mutable, meaning their elements can be changed, added, or removed after creation.\n",
        "2.On the other hand, tuples are immutable, which means once a tuple is created, its elements cannot be modified.\n",
        "3.Lists are defined using square brackets [], while tuples are defined using parentheses ().\n",
        "4.Due to their immutability, tuples are generally faster and more memory-efficient than lists, making them suitable for read-only data. 5.Lists are more flexible and widely used when the data needs to be updated frequently.\n",
        "6.Choosing between a list and a tuple depends on the requirement of data modification and performance."
      ],
      "metadata": {
        "id": "eawBhxkeFpf0"
      }
    },
    {
      "cell_type": "markdown",
      "source": [
        "4. Describe how dictionaries store data."
      ],
      "metadata": {
        "id": "RJUDcKL4F7N1"
      }
    },
    {
      "cell_type": "markdown",
      "source": [
        "A)Before dictionary is considered unordered but with new version of Python 3.7 it retained ordered.\n",
        "1.A dictionary is created by enclosing the key-value pairs in curly braces {}, with each pair separated by a colon :.\n",
        "2. The key is used to retrieve the associated value in constant time, making dictionaries highly efficient for lookups, insertions, and deletions. For example, {\"name\": \"Alice\", \"age\": 25} represents a dictionary where \"name\" and \"age\" are keys, and \"Alice\" and 25 are their corresponding values.\n",
        "3.Since the keys must be immutable (e.g., strings, numbers, or tuples), dictionaries can store a wide variety of data types and are widely used for fast, associative data storage and retrieval.\n",
        "4.Each piece of data is accessed via a unique key rather than an index."
      ],
      "metadata": {
        "id": "QI8G8eEGGZx4"
      }
    },
    {
      "cell_type": "markdown",
      "source": [
        "5.Why might you use a set instead of a list in Python?"
      ],
      "metadata": {
        "id": "UlMnNqVmHJwA"
      }
    },
    {
      "cell_type": "markdown",
      "source": [
        "A)In Python, both sets and lists are used to store collections of data, but they have distinct characteristics that make them suitable for different use cases. A set is an unordered collection of unique elements, which means it automatically removes duplicates and does not maintain the order of the items. This is particularly useful when you need to store a collection of items where uniqueness is important, such as removing duplicate values from a list. On the other hand, a list allows duplicate values and maintains the order of elements, making it ideal for ordered collections or when the sequence of elements matters. Additionally, sets provide faster membership tests (i.e., checking if an item is in the set) compared to lists, because they are implemented using hash tables. Therefore, if you need to quickly check for the existence of an item or need a collection of unique items, using a set is more efficient than using a list."
      ],
      "metadata": {
        "id": "WZzoWdvjHVzJ"
      }
    },
    {
      "cell_type": "markdown",
      "source": [
        "6.What is a string in Python, and how is it different from a list?"
      ],
      "metadata": {
        "id": "sJRtexxmHW4J"
      }
    },
    {
      "cell_type": "markdown",
      "source": [
        "A)In Python, a string is a sequence of characters enclosed in either single quotes (') or double quotes (\"). Strings are immutable, meaning that once a string is created, its contents cannot be modified. They can be accessed via indexing and slicing, where each character has a specific position. For example, \"hello\" is a string with the characters 'h', 'e', 'l', 'l', and 'o'.\n",
        "\n",
        "On the other hand, a list is an ordered collection of elements that can hold any data type, including numbers, strings, and even other lists. Unlike strings, lists are mutable, meaning you can modify their elements after creation. Lists are defined using square brackets ([]) and can be changed by adding, removing, or modifying elements. For example, a list can be created as my_list = [1, 2, \"hello\", [3, 4]], and you can change the value of an element in the list, such as my_list[0] = 10.\n",
        "\n",
        "The key differences between strings and lists are:\n",
        "\n",
        "Mutability: Strings are immutable, while lists are mutable.\n",
        "\n",
        "Data types: A string can only contain characters, while a list can hold elements of any type, including strings, numbers, or even other lists.\n",
        "\n",
        "Purpose: Strings are typically used for textual data, while lists are used for collections of items that may need to be modified."
      ],
      "metadata": {
        "id": "FvHM-cKuHmhF"
      }
    },
    {
      "cell_type": "markdown",
      "source": [
        "7.How do tuples ensure data integrity in Python3"
      ],
      "metadata": {
        "id": "kpn6CiblHqJe"
      }
    },
    {
      "cell_type": "markdown",
      "source": [
        "A)In Python, tuples are an immutable data type, which means that once a tuple is created, its contents cannot be modified. This immutability plays a crucial role in ensuring data integrity because it prevents accidental or intentional changes to the data stored in the tuple. For example, you cannot add, remove, or modify elements in a tuple after its creation. This guarantees that the data remains consistent and unaltered throughout the program, making tuples ideal for storing constant or fixed data that should not be modified.\n",
        "\n",
        "Because tuples cannot be modified, they provide a layer of protection against unintended changes, reducing the risk of bugs that could arise from accidentally altering the data. In scenarios where data integrity is essential—such as representing coordinates, configuration settings, or constant values—tuples are the preferred choice over mutable types like lists. Furthermore, the immutability of tuples makes them hashable, meaning they can be used as keys in dictionaries, ensuring that data used for lookups remains intact.\n",
        "\n"
      ],
      "metadata": {
        "id": "njEm7cJjH2vD"
      }
    },
    {
      "cell_type": "markdown",
      "source": [
        "8. What is a hash table, and how does it relate to dictionaries in Python?"
      ],
      "metadata": {
        "id": "omU9Dq_HH4Vu"
      }
    },
    {
      "cell_type": "markdown",
      "source": [
        "A)The main idea behind a hash table is to use the key to quickly locate the associated value, making operations like insertion, deletion, and lookup efficient, often with constant time complexity, O(1).\n",
        "\n",
        "In Python, dictionaries (dict) are implemented using hash tables. When you create a dictionary and add key-value pairs, Python internally uses a hash table to store these pairs. The key you provide is passed through a hash function to compute its hash value, which is then used to find an appropriate location in memory (a specific \"bucket\") where the value is stored. If there are multiple keys that hash to the same location (a collision), Python handles it by storing the values in a way that avoids overwriting or losing data.\n",
        "\n",
        "For example, in a dictionary like {\"name\": \"Alice\", \"age\": 30}, the string \"name\" and the string \"age\" are hashed, and their corresponding values (\"Alice\" and 30) are stored in the hash table.\n",
        "\n",
        "How Hash Tables Benefit Dictionaries:\n",
        "Efficient Lookup: The hash table allows for fast key-based lookups, making retrieving values in a dictionary very efficient.\n",
        "\n",
        "Constant Time Operations: With a good hash function, accessing, adding, or removing items in a dictionary is usually done in constant time, O(1).\n",
        "\n",
        "Handling Collisions: Python's dictionary implementation manages hash collisions automatically, ensuring data integrity.\n"
      ],
      "metadata": {
        "id": "5UEweaRoIJDc"
      }
    },
    {
      "cell_type": "markdown",
      "source": [
        "9.Can lists contain different data types in Python3"
      ],
      "metadata": {
        "id": "ZNKu0q1eIP6r"
      }
    },
    {
      "cell_type": "markdown",
      "source": [
        "A) lists in Python can contain different data types. This flexibility is one of the key features of Python's list data structure, making it a powerful tool for working with collections of data. In a Python list, elements can be of any data type, including integers, floats, strings, boolean values, other lists, and even custom objects."
      ],
      "metadata": {
        "id": "kBcZ--TEIcaS"
      }
    },
    {
      "cell_type": "code",
      "source": [
        "list = [1, 3.14, \"hello\", True, [2, 3]]\n",
        "print(list)\n"
      ],
      "metadata": {
        "colab": {
          "base_uri": "https://localhost:8080/"
        },
        "id": "2g3ULlZ4Ig9C",
        "outputId": "8929b8f0-dffe-4acd-ffa1-464a286ac901"
      },
      "execution_count": 6,
      "outputs": [
        {
          "output_type": "stream",
          "name": "stdout",
          "text": [
            "[1, 3.14, 'hello', True, [2, 3]]\n"
          ]
        }
      ]
    },
    {
      "cell_type": "markdown",
      "source": [
        "10.Explain why strings are immutable in Python"
      ],
      "metadata": {
        "id": "JJ2q3X0hIiIx"
      }
    },
    {
      "cell_type": "markdown",
      "source": [
        "A)In Python, strings are immutable, meaning that once a string object is created, its contents cannot be modified. This immutability is a deliberate design choice in Python, and there are several key reasons for this:\n",
        "\n",
        "1. Efficiency in Memory Management\n",
        "Memory Optimization: When strings are immutable, Python can optimize memory usage. It can reuse the same string object in memory if the same string value is created multiple times. This reduces overhead, as Python can store a reference to the existing object instead of creating a new one.\n",
        "\n",
        "String Interning: Python uses a technique called string interning, where strings with the same value are stored only once in memory. Since strings are immutable, this approach ensures that all references to the same string point to the same memory location, saving memory and improving performance.\n",
        "\n",
        "2. Data Integrity\n",
        "Consistency: Immutability ensures that once a string is created, its data remains consistent and unchangeable. This is particularly important when strings are used as keys in dictionaries or elements in sets, where the data integrity must be guaranteed to avoid unexpected behavior.\n",
        "\n",
        "Avoiding Bugs: By preventing modifications, immutability helps avoid unintended changes to strings, which could lead to bugs and errors in the program.\n",
        "\n",
        "3. Thread Safety\n",
        "Safe for Multi-threading: Because strings cannot be changed after creation, they are inherently thread-safe. This means that multiple threads can safely use the same string without worrying about one thread modifying it while another is reading it.\n",
        "\n",
        "4. Simplifies the Language Design\n",
        "Simplified Behavior: Immutable objects are simpler to work with because you don't have to track changes to the object. In contrast, mutable objects would require more complex behavior to track and manage changes, especially in contexts like memory management or garbage collection.\n",
        "\n",
        "5.Hashing: Immutability is crucial for strings being used as hashable objects in Python, allowing them to be used as keys in dictionaries or elements in sets. If strings were mutable, it would be impossible to ensure that their hash values remain constant throughout their lifetime.\n",
        "\n"
      ],
      "metadata": {
        "id": "LSFkveVII5zp"
      }
    },
    {
      "cell_type": "code",
      "source": [
        "s = \"hello\"\n",
        "# modify a string results in a new string\n",
        "s = s + \" world\"  # Creates a new string, does not modify the original 's'\n",
        "\n",
        "print(s)  # Output: 'hello world'\n"
      ],
      "metadata": {
        "id": "KIe_d794I6pn"
      },
      "execution_count": null,
      "outputs": []
    },
    {
      "cell_type": "markdown",
      "source": [
        "11. What advantages do dictionaries offer over lists for certain tasks?"
      ],
      "metadata": {
        "id": "NV7I01TAJEah"
      }
    },
    {
      "cell_type": "markdown",
      "source": [
        "A)Advantages of Dictionaries Over Lists for Certain Tasks\n",
        "Dictionaries in Python offer several advantages over lists, especially when you need to store and retrieve data efficiently based on keys.\n",
        "\n",
        "Faster Lookups:\n",
        "\n",
        "Dictionaries allow for fast data retrieval using keys, typically in constant time, O(1). When you need to quickly access values based on a unique identifier, dictionaries are much faster than lists, where you'd have to search through each element.\n",
        "\n",
        "Key-Value Pairs:\n",
        "\n",
        "Unlike lists, which store elements in a sequential order, dictionaries store data as key-value pairs. This makes it easier to associate specific data with unique identifiers (keys), such as storing a person's name and age together in one dictionary.\n",
        "\n",
        "No Duplicates:\n",
        "\n",
        "In dictionaries, each key is unique, meaning that there are no duplicate keys. This ensures data integrity and avoids redundancy. In contrast, lists can contain duplicate values, which might not be desirable for certain tasks.\n",
        "\n",
        "Easier to Modify Specific Elements:\n",
        "\n",
        "With dictionaries, you can directly update the value associated with a specific key. In a list, to modify an element, you need to know its position or index. In contrast, with a dictionary, you can directly access and modify a value by its key, making it more efficient for certain tasks.\n",
        "\n",
        "Flexible Data Representation:\n",
        "\n",
        "Dictionaries allow for more structured data representation by mapping each key to its corresponding value. This is especially useful when dealing with complex data like user profiles, product catalogs, or configurations, where you need to map meaningful identifiers to specific data.\n",
        "\n"
      ],
      "metadata": {
        "id": "LJM2M99RJRt-"
      }
    },
    {
      "cell_type": "code",
      "source": [
        "# Using a list\n",
        "names = [\"Alice\", \"Bob\", \"Charlie\"]\n",
        "ages = [25, 30, 35]\n",
        "\n",
        "# Using a dictionary\n",
        "person_info = {\"Alice\": 25, \"Bob\": 30, \"Charlie\": 35}\n"
      ],
      "metadata": {
        "id": "93FHKqviJSe_"
      },
      "execution_count": null,
      "outputs": []
    },
    {
      "cell_type": "markdown",
      "source": [
        "12. Describe a scenario where using a tuple would be preferable over a listP"
      ],
      "metadata": {
        "id": "_k4xvvjoJZSf"
      }
    },
    {
      "cell_type": "markdown",
      "source": [
        "A)Imagine you're working on a program that stores the coordinates of a point in a 2D space. These coordinates are meant to be fixed and should not change throughout the program. For example, you might store the coordinates of a landmark or a location in a game.\n",
        "\n",
        "In this case, you should use a tuple instead of a list. Here's why:\n",
        "\n",
        "Immutability: Tuples are immutable, which means once you store the coordinates in a tuple, they cannot be accidentally changed. This guarantees the integrity of the data, ensuring that the coordinates remain constant throughout the program.\n",
        "\n",
        "Performance: Since tuples are immutable, they are generally faster and more memory-efficient than lists, especially when you don’t need to modify the data. For fixed data like coordinates, this makes tuples a better choice."
      ],
      "metadata": {
        "id": "9QzMv0alJham"
      }
    },
    {
      "cell_type": "code",
      "source": [
        "# Using a tuple for fixed coordinates\n",
        "coordinates = (10, 20)\n",
        "\n",
        "# Trying to modify coordinates would raise an error\n",
        "# coordinates[0] = 15  # This will raise a TypeError\n",
        "\n",
        "print(coordinates)\n"
      ],
      "metadata": {
        "id": "5Aur_MBcJids"
      },
      "execution_count": null,
      "outputs": []
    },
    {
      "cell_type": "markdown",
      "source": [
        "13. How do sets handle duplicate values in Python3"
      ],
      "metadata": {
        "id": "_arAsjM8JtLk"
      }
    },
    {
      "cell_type": "markdown",
      "source": [
        "In Python, sets are unordered collections of unique elements. This means that sets automatically remove any duplicate values when you try to add them. If you try to insert an item that is already in the set, the set will not add it again. This behavior ensures that every element in a set is distinct."
      ],
      "metadata": {
        "id": "glLtDxIQJ5CN"
      }
    },
    {
      "cell_type": "code",
      "source": [
        "# Using a tuple for fixed coordinates\n",
        "coordinates = (10, 20)\n",
        "\n",
        "# Trying to modify coordinates would raise an error\n",
        "coordinates[0] = 15\n",
        "\n",
        "print(coordinates)\n"
      ],
      "metadata": {
        "colab": {
          "base_uri": "https://localhost:8080/",
          "height": 211
        },
        "id": "Pg4HmuDHJ55U",
        "outputId": "243302f6-6f41-4ed8-d5f8-079f471fd907"
      },
      "execution_count": 7,
      "outputs": [
        {
          "output_type": "error",
          "ename": "TypeError",
          "evalue": "'tuple' object does not support item assignment",
          "traceback": [
            "\u001b[0;31m---------------------------------------------------------------------------\u001b[0m",
            "\u001b[0;31mTypeError\u001b[0m                                 Traceback (most recent call last)",
            "\u001b[0;32m<ipython-input-7-0a5b93135e83>\u001b[0m in \u001b[0;36m<cell line: 0>\u001b[0;34m()\u001b[0m\n\u001b[1;32m      3\u001b[0m \u001b[0;34m\u001b[0m\u001b[0m\n\u001b[1;32m      4\u001b[0m \u001b[0;31m# Trying to modify coordinates would raise an error\u001b[0m\u001b[0;34m\u001b[0m\u001b[0;34m\u001b[0m\u001b[0m\n\u001b[0;32m----> 5\u001b[0;31m \u001b[0mcoordinates\u001b[0m\u001b[0;34m[\u001b[0m\u001b[0;36m0\u001b[0m\u001b[0;34m]\u001b[0m \u001b[0;34m=\u001b[0m \u001b[0;36m15\u001b[0m\u001b[0;34m\u001b[0m\u001b[0;34m\u001b[0m\u001b[0m\n\u001b[0m\u001b[1;32m      6\u001b[0m \u001b[0;34m\u001b[0m\u001b[0m\n\u001b[1;32m      7\u001b[0m \u001b[0mprint\u001b[0m\u001b[0;34m(\u001b[0m\u001b[0mcoordinates\u001b[0m\u001b[0;34m)\u001b[0m\u001b[0;34m\u001b[0m\u001b[0;34m\u001b[0m\u001b[0m\n",
            "\u001b[0;31mTypeError\u001b[0m: 'tuple' object does not support item assignment"
          ]
        }
      ]
    },
    {
      "cell_type": "markdown",
      "source": [
        "14. How does the “in” keyword work differently for lists and dictionaries3"
      ],
      "metadata": {
        "id": "aiAcyKpIKA7M"
      }
    },
    {
      "cell_type": "markdown",
      "source": [
        "A)The in keyword is used to check for membership in both lists and dictionaries, but it behaves differently depending on the data structure.\n",
        "\n",
        "1. Using in with Lists:\n",
        "When you use the in keyword with a list, it checks if the value is present anywhere in the list. It will return True if the item exists in the list, and False otherwise."
      ],
      "metadata": {
        "id": "imMynWJEKH37"
      }
    },
    {
      "cell_type": "code",
      "source": [
        "list = [1, 2, 3, 4, 5]\n",
        "print(3 in list)\n",
        "print(6 in list)\n"
      ],
      "metadata": {
        "colab": {
          "base_uri": "https://localhost:8080/"
        },
        "id": "h_Ft6FWCKJOa",
        "outputId": "cd9b9d1a-7feb-4810-9b33-9f9942feb277"
      },
      "execution_count": 9,
      "outputs": [
        {
          "output_type": "stream",
          "name": "stdout",
          "text": [
            "True\n",
            "False\n"
          ]
        }
      ]
    },
    {
      "cell_type": "markdown",
      "source": [
        ". Using in with Dictionaries:\n",
        "When you use the in keyword with a dictionary, it checks if the key exists in the dictionary, not the value. It returns True if the key exists, and False otherwise."
      ],
      "metadata": {
        "id": "RLdyLgb5KMBE"
      }
    },
    {
      "cell_type": "code",
      "source": [
        "dict = {\"name\": \"Alice\", \"age\": 30}\n",
        "print(\"name\" in dict)\n",
        "print(\"gender\" in dict)\n"
      ],
      "metadata": {
        "colab": {
          "base_uri": "https://localhost:8080/"
        },
        "id": "PTXxQJMqKPOL",
        "outputId": "602ea8f3-951c-4f79-f4fe-e93db4d2343b"
      },
      "execution_count": 8,
      "outputs": [
        {
          "output_type": "stream",
          "name": "stdout",
          "text": [
            "True\n",
            "False\n"
          ]
        }
      ]
    },
    {
      "cell_type": "markdown",
      "source": [
        "15. Can you modify the elements of a tuple? Explain why or why not.\n"
      ],
      "metadata": {
        "id": "Fo_Zm8qvKYRQ"
      }
    },
    {
      "cell_type": "markdown",
      "source": [
        "A)No, you cannot modify the elements of a tuple once it has been created. This is because tuples in Python are immutable, which means their contents cannot be changed after they are created.\n",
        "\n",
        "Reason:\n",
        "The immutability of tuples is a fundamental property of this data type. Once a tuple is created, its elements cannot be changed, added, or removed. This ensures that the data stored in a tuple remains constant throughout the program."
      ],
      "metadata": {
        "id": "DCXGqaNkKd8D"
      }
    },
    {
      "cell_type": "code",
      "source": [
        "# Creating a tuple\n",
        "my_tuple = (1, 2, 3)\n",
        "\n",
        "# my_tuple[0] = 10  # This will raise a TypeError\n",
        "print(my_tuple)\n"
      ],
      "metadata": {
        "colab": {
          "base_uri": "https://localhost:8080/"
        },
        "id": "YS88UsPcKkBJ",
        "outputId": "7793f350-d53a-46de-97df-c4c7586289b6"
      },
      "execution_count": 10,
      "outputs": [
        {
          "output_type": "stream",
          "name": "stdout",
          "text": [
            "(1, 2, 3)\n"
          ]
        }
      ]
    },
    {
      "cell_type": "markdown",
      "source": [
        "\n",
        "Data Integrity: Since tuples are immutable, they provide a way to store data that should not be altered, ensuring data integrity.\n",
        "\n",
        "Performance: Tuples are generally more memory-efficient and faster to access than lists due to their immutability.\n",
        "\n",
        "Hashability: Tuples can be used as keys in dictionaries or elements in sets, as they are hashable, which would not be possible with mutable data types.\n",
        "\n"
      ],
      "metadata": {
        "id": "Rrn8LwPlKovp"
      }
    },
    {
      "cell_type": "markdown",
      "source": [
        "16. What is a nested dictionary, and give an example of its use case."
      ],
      "metadata": {
        "id": "YufI8HUSKuxw"
      }
    },
    {
      "cell_type": "markdown",
      "source": [
        "A) A nested dictionary is a dictionary where the values themselves are dictionaries. In other words, it’s a dictionary inside another dictionary. This allows you to store complex data structures, where each key-value pair might itself contain more key-value pairs.\n",
        "\n",
        "Use Case of a Nested Dictionary\n",
        "A nested dictionary is useful when you need to represent hierarchical data. For example, when dealing with data like a student's records where each student has a name, age, and a set of subjects they are enrolled in, each subject with its own marks."
      ],
      "metadata": {
        "id": "kyxRh6w1K5ho"
      }
    },
    {
      "cell_type": "code",
      "source": [
        "students = {\n",
        "    \"Alice\": {\"age\": 20, \"subjects\": {\"Math\": 90, \"English\": 85}},\n",
        "    \"Bob\": {\"age\": 22, \"subjects\": {\"Math\": 78, \"English\": 88}},\n",
        "    \"Charlie\": {\"age\": 21, \"subjects\": {\"Math\": 85, \"English\": 95}}\n",
        "}\n",
        "\n",
        "# Accessing data in a nested dictionary\n",
        "print(students[\"Alice\"][\"subjects\"][\"Math\"])\n",
        "\n"
      ],
      "metadata": {
        "colab": {
          "base_uri": "https://localhost:8080/"
        },
        "id": "UA6TDNcLK6Ln",
        "outputId": "8725f009-03e4-4ae1-fd6f-3d7c2109b2af"
      },
      "execution_count": 11,
      "outputs": [
        {
          "output_type": "stream",
          "name": "stdout",
          "text": [
            "90\n"
          ]
        }
      ]
    },
    {
      "cell_type": "markdown",
      "source": [
        "17. Describe the time complexity of accessing elements in a dictionary"
      ],
      "metadata": {
        "id": "zvRXY6GBK-OK"
      }
    },
    {
      "cell_type": "markdown",
      "source": [
        "A)In Python, dictionaries are implemented using hash tables, which provide an efficient way to store and retrieve data. The time complexity of accessing elements in a dictionary is generally O(1), meaning it takes constant time, regardless of the size of the dictionary.\n",
        "\n",
        "How it Works:\n",
        "When you use a key to access a value in a dictionary (e.g., my_dict[key]), Python applies a hash function to the key. This hash function generates a hash code, which determines where the key-value pair is stored in memory.\n",
        "\n",
        "Python then directly accesses the memory location corresponding to the hash code and retrieves the value. This allows for constant-time access.\n",
        "\n",
        "Time Complexity:\n",
        "Average Case: The time complexity of accessing an element in a dictionary is O(1) on average. This is because hash-based lookups are very fast and do not depend on the size of the dictionary.\n",
        "\n",
        "Worst Case: The time complexity can be O(n) in the case of hash collisions. If multiple keys hash to the same value (collision), Python might need to search through a list of values that share the same hash. However, Python uses efficient collision resolution techniques like open addressing or separate chaining to minimize this scenario."
      ],
      "metadata": {
        "id": "6Ln572POLLd2"
      }
    },
    {
      "cell_type": "code",
      "source": [
        "my_dict = {\"name\": \"Alice\", \"age\": 25, \"city\": \"New York\"}\n",
        "\n",
        "# Accessing an element (O(1) time complexity on average)\n",
        "print(my_dict[\"name\"])\n"
      ],
      "metadata": {
        "colab": {
          "base_uri": "https://localhost:8080/"
        },
        "id": "mEyqcDdELNIu",
        "outputId": "e3797aa0-9e56-42c5-f3f7-282d290fecde"
      },
      "execution_count": 12,
      "outputs": [
        {
          "output_type": "stream",
          "name": "stdout",
          "text": [
            "Alice\n"
          ]
        }
      ]
    },
    {
      "cell_type": "markdown",
      "source": [
        "Hash functions are designed to distribute keys evenly across the memory, making lookups efficient. Even if the dictionary contains millions of elements, accessing a value by key remains fast.\n",
        "\n"
      ],
      "metadata": {
        "id": "qDZGJ-FQLjDQ"
      }
    },
    {
      "cell_type": "markdown",
      "source": [
        "18.In what situations are lists preferred over dictionaries?"
      ],
      "metadata": {
        "id": "SoQP8RsLLmpJ"
      }
    },
    {
      "cell_type": "markdown",
      "source": [
        "A)While dictionaries offer fast access to data through keys, lists are preferred in some situations, especially when the order of elements matters or when you need to store collections of data that do not require key-value pairs. Below are situations where lists are more suitable than dictionaries:"
      ],
      "metadata": {
        "id": "ND4CxqQMLzh-"
      }
    },
    {
      "cell_type": "markdown",
      "source": [
        " 1.When Order Matters:\n",
        "Lists maintain the order of elements, meaning that the position of each element is preserved. If the order of items is important and needs to be preserved (like a sequence or timeline), then lists are the preferred choice.\n",
        "\n",
        "Example: If you need to store the sequence of user actions in an application, a list is better:\n",
        "\n",
        "\n"
      ],
      "metadata": {
        "id": "yzMzsGngL8dN"
      }
    },
    {
      "cell_type": "code",
      "source": [
        "actions = [\"login\", \"view\", \"logout\"]\n"
      ],
      "metadata": {
        "id": "_qoFp3dUMFZC"
      },
      "execution_count": null,
      "outputs": []
    },
    {
      "cell_type": "markdown",
      "source": [
        "2. When You Need to Access Data by Index:\n",
        "Lists allow you to access elements by index (e.g., list[index]), which is useful when you need to retrieve elements by their position in a collection. This makes them more suitable when you need quick access based on the element's position rather than a unique key."
      ],
      "metadata": {
        "id": "FMuCk03ZMGUr"
      }
    },
    {
      "cell_type": "code",
      "source": [
        "fruits = [\"apple\", \"banana\", \"cherry\"]\n",
        "print(fruits[1])  # Output: banana\n"
      ],
      "metadata": {
        "id": "LIh9E6mLMJMr"
      },
      "execution_count": null,
      "outputs": []
    },
    {
      "cell_type": "markdown",
      "source": [],
      "metadata": {
        "id": "y_PviJDXMK4i"
      }
    },
    {
      "cell_type": "markdown",
      "source": [
        "3. When You Don't Need Unique Keys:\n",
        "Lists are better when the data doesn't need unique keys or identifiers. If you want to store a collection of duplicate values or when each element is not associated with a unique identifier, a list is appropriate."
      ],
      "metadata": {
        "id": "H9C97_d7MNk3"
      }
    },
    {
      "cell_type": "code",
      "source": [
        "numbers = [5, 5, 5, 5]  # A list with duplicate values is perfectly valid\n"
      ],
      "metadata": {
        "id": "Rc-uhkHaMOov"
      },
      "execution_count": null,
      "outputs": []
    },
    {
      "cell_type": "markdown",
      "source": [
        "4. When You Need Simple, Ordered Data:\n",
        "Lists are ideal when you're simply collecting items in an ordered manner, such as storing a series of numbers, strings, or other data types without any need to associate them with specific keys. This is particularly useful for situations where the size of the collection may change frequently (e.g., adding or removing elements).\n",
        "\n",
        "Example:"
      ],
      "metadata": {
        "id": "tRsIHBdUMRrI"
      }
    },
    {
      "cell_type": "code",
      "source": [
        "names = [\"John\", \"Alice\", \"Bob\"]\n",
        "names.append(\"Charlie\")  # Adding an item to the list is easy\n",
        "print(names)"
      ],
      "metadata": {
        "colab": {
          "base_uri": "https://localhost:8080/"
        },
        "id": "jTnm2FInMUPZ",
        "outputId": "40aa8d16-3a14-49ed-a771-8f996e0baa19"
      },
      "execution_count": 14,
      "outputs": [
        {
          "output_type": "stream",
          "name": "stdout",
          "text": [
            "['John', 'Alice', 'Bob', 'Charlie']\n"
          ]
        }
      ]
    },
    {
      "cell_type": "markdown",
      "source": [
        "When You Need to Perform Operations on Sequences:\n",
        "Lists are more appropriate when you need to perform common sequence operations like slicing, sorting, and iterating in a specific order. Lists come with a wide range of methods for manipulation, such as .sort(), .reverse(), .pop(), etc."
      ],
      "metadata": {
        "id": "7cBecDsIMXEY"
      }
    },
    {
      "cell_type": "code",
      "source": [
        "numbers = [3, 1, 4, 1, 5, 9]\n",
        "numbers.sort()  # Sorting a list is straightforward\n",
        "print(numbers)  # Output: [1, 1, 3, 4, 5, 9]\n"
      ],
      "metadata": {
        "colab": {
          "base_uri": "https://localhost:8080/"
        },
        "id": "wsaojVQWMb50",
        "outputId": "892bd1e6-35b6-4255-9cdd-ddad3e41d64f"
      },
      "execution_count": 15,
      "outputs": [
        {
          "output_type": "stream",
          "name": "stdout",
          "text": [
            "[1, 1, 3, 4, 5, 9]\n"
          ]
        }
      ]
    },
    {
      "cell_type": "markdown",
      "source": [
        "19. Why are dictionaries considered unordered, and how does that affect data retrieval?"
      ],
      "metadata": {
        "id": "l1L7dOd-MhD-"
      }
    },
    {
      "cell_type": "markdown",
      "source": [
        "A)Dictionaries in Python are considered unordered because their internal structure is based on a hash table. This allows for fast access to values using keys but does not maintain any specific order for the key-value pairs.\n",
        "\n",
        "Effect on Data Retrieval:\n",
        "Fast Lookups: Retrieving data by key is O(1), meaning it’s fast, even though the dictionary doesn't guarantee order.\n",
        "\n",
        "Iteration: The order of items when iterating over a dictionary is not guaranteed, so if you need a specific order, you must sort the dictionary.\n",
        "\n"
      ],
      "metadata": {
        "id": "f-1Z7JwDMyki"
      }
    },
    {
      "cell_type": "markdown",
      "source": [
        "20. Explain the difference between a list and a dictionary in terms of data retrieval."
      ],
      "metadata": {
        "id": "WwkIrYG5M1LT"
      }
    },
    {
      "cell_type": "markdown",
      "source": [
        "1. Data Retrieval by Index (List):\n",
        "Lists store elements in an ordered sequence. You retrieve data from a list using an index, which is the position of an element in the list.\n",
        "\n",
        "Access time for retrieving an element by index is O(1) (constant time)."
      ],
      "metadata": {
        "id": "8JBpesC5NDEX"
      }
    },
    {
      "cell_type": "code",
      "source": [
        "my_list = [10, 20, 30]\n",
        "print(my_list[1])\n"
      ],
      "metadata": {
        "colab": {
          "base_uri": "https://localhost:8080/"
        },
        "id": "7JFNP-IqNI-k",
        "outputId": "0281d5c8-1b33-488c-e663-a43f3c735777"
      },
      "execution_count": 16,
      "outputs": [
        {
          "output_type": "stream",
          "name": "stdout",
          "text": [
            "20\n"
          ]
        }
      ]
    },
    {
      "cell_type": "markdown",
      "source": [
        "2. Data Retrieval by Key (Dictionary):\n",
        "Dictionaries store key-value pairs. You retrieve data from a dictionary using a key, which uniquely identifies each value.\n",
        "\n",
        "Access time for retrieving an element by key is O(1) (constant time) due to the use of a hash table."
      ],
      "metadata": {
        "id": "TDLk3dIdNKPs"
      }
    },
    {
      "cell_type": "code",
      "source": [
        "my_dict = {\"a\": 10, \"b\": 20, \"c\": 30}\n",
        "print(my_dict[\"b\"])\n"
      ],
      "metadata": {
        "colab": {
          "base_uri": "https://localhost:8080/"
        },
        "id": "F124_8MCNPgz",
        "outputId": "f7d8c93c-5431-4955-ec9e-cdce590c75b1"
      },
      "execution_count": 17,
      "outputs": [
        {
          "output_type": "stream",
          "name": "stdout",
          "text": [
            "20\n"
          ]
        }
      ]
    },
    {
      "cell_type": "markdown",
      "source": [
        "Practical Questions"
      ],
      "metadata": {
        "id": "MolC4WwfV4SJ"
      }
    },
    {
      "cell_type": "markdown",
      "source": [
        "1.Write a code to create a string with your name and print it."
      ],
      "metadata": {
        "id": "a6ey7WMoc8Bg"
      }
    },
    {
      "cell_type": "code",
      "source": [
        "name=input(\"Enter your name \")\n",
        "print(name)\n",
        "print(type(name))"
      ],
      "metadata": {
        "colab": {
          "base_uri": "https://localhost:8080/"
        },
        "id": "nRdSHKcodbXf",
        "outputId": "75ec3f1d-baa6-4d53-e7a0-f45e184db8eb"
      },
      "execution_count": null,
      "outputs": [
        {
          "output_type": "stream",
          "name": "stdout",
          "text": [
            "Enter your name Pandari Srivani\n",
            "Pandari Srivani\n",
            "<class 'str'>\n"
          ]
        }
      ]
    },
    {
      "cell_type": "markdown",
      "source": [
        "2. Write a code to find the length of the string \"Hello World\""
      ],
      "metadata": {
        "id": "ABvcL1-sdQpo"
      }
    },
    {
      "cell_type": "code",
      "source": [
        "print(len(\"Hello World\"))"
      ],
      "metadata": {
        "colab": {
          "base_uri": "https://localhost:8080/"
        },
        "id": "LeB5mCkneM9B",
        "outputId": "24966ea7-a734-4ca2-96be-4e119f207971"
      },
      "execution_count": null,
      "outputs": [
        {
          "output_type": "stream",
          "name": "stdout",
          "text": [
            "11\n"
          ]
        }
      ]
    },
    {
      "cell_type": "markdown",
      "source": [
        "3. Write a code to slice the first 3 characters from the string \"Python Programming\"\n"
      ],
      "metadata": {
        "id": "RXbTsS9ceW5Q"
      }
    },
    {
      "cell_type": "code",
      "source": [
        "string=\"Python Programming\"\n",
        "print(string[0:3])"
      ],
      "metadata": {
        "colab": {
          "base_uri": "https://localhost:8080/"
        },
        "id": "eaDE0YXpe1mo",
        "outputId": "dd6f0c24-c644-4ffd-8f43-51fca6d9dedd"
      },
      "execution_count": null,
      "outputs": [
        {
          "output_type": "stream",
          "name": "stdout",
          "text": [
            "Pyt\n"
          ]
        }
      ]
    },
    {
      "cell_type": "markdown",
      "source": [
        "4. Write a code to convert the string \"hello\" to uppercase."
      ],
      "metadata": {
        "id": "Id9GCqmmfD-4"
      }
    },
    {
      "cell_type": "code",
      "source": [
        "print(\"hello\".upper())"
      ],
      "metadata": {
        "colab": {
          "base_uri": "https://localhost:8080/"
        },
        "id": "JqROUwobfHyn",
        "outputId": "3ac5cffe-6601-46db-a4f2-18bbd058ed49"
      },
      "execution_count": null,
      "outputs": [
        {
          "output_type": "stream",
          "name": "stdout",
          "text": [
            "HELLO\n"
          ]
        }
      ]
    },
    {
      "cell_type": "markdown",
      "source": [
        "5. Write a code to replace the word \"apple\" with \"orange\" in the string \"I like apple\""
      ],
      "metadata": {
        "id": "acDawx_HfVQY"
      }
    },
    {
      "cell_type": "code",
      "source": [
        "string=\"I like apple\"\n",
        "new_string=string.replace(\"apple\",\"orange\")\n",
        "print(new_string)"
      ],
      "metadata": {
        "colab": {
          "base_uri": "https://localhost:8080/"
        },
        "id": "klKEIwDNfZJg",
        "outputId": "918916cd-bdbc-4e57-a5c8-961ef340c3f1"
      },
      "execution_count": null,
      "outputs": [
        {
          "output_type": "stream",
          "name": "stdout",
          "text": [
            "I like orange\n"
          ]
        }
      ]
    },
    {
      "cell_type": "markdown",
      "source": [
        "6. Write a code to create a list with numbers 1 to 5 and print it."
      ],
      "metadata": {
        "id": "OunRFl-egRg_"
      }
    },
    {
      "cell_type": "code",
      "source": [
        "L=list(map(int,input().split()))\n",
        "for  i in range(len(L)):\n",
        "  print(L[i])"
      ],
      "metadata": {
        "colab": {
          "base_uri": "https://localhost:8080/"
        },
        "id": "fRlQnheDgbjn",
        "outputId": "c631cd12-5acc-4eb6-8abd-824f571c4661"
      },
      "execution_count": null,
      "outputs": [
        {
          "output_type": "stream",
          "name": "stdout",
          "text": [
            "1 2 3 4 5\n",
            "1\n",
            "2\n",
            "3\n",
            "4\n",
            "5\n"
          ]
        }
      ]
    },
    {
      "cell_type": "markdown",
      "source": [
        "7.Write a code to append the number 10 to the list [1, 2, 3, 4]."
      ],
      "metadata": {
        "id": "3mxFyhBmg3NQ"
      }
    },
    {
      "cell_type": "code",
      "source": [
        "L=[1,2,3,4]\n",
        "L.append(10)\n",
        "print(L)"
      ],
      "metadata": {
        "colab": {
          "base_uri": "https://localhost:8080/"
        },
        "id": "L1KgN8p6hMgg",
        "outputId": "b6ed5da5-587b-466c-fb02-69d72a8eadd9"
      },
      "execution_count": null,
      "outputs": [
        {
          "output_type": "stream",
          "name": "stdout",
          "text": [
            "[1, 2, 3, 4, 10]\n"
          ]
        }
      ]
    },
    {
      "cell_type": "markdown",
      "source": [
        "8.Write a code to remove the number 3 from the list [1, 2, 3, 4, 5]."
      ],
      "metadata": {
        "id": "GKwsISxBhWO-"
      }
    },
    {
      "cell_type": "code",
      "source": [
        "L=[1,2,3,4,5]\n",
        "L.remove(3)\n",
        "print(L)"
      ],
      "metadata": {
        "colab": {
          "base_uri": "https://localhost:8080/"
        },
        "id": "UewgESrlhchI",
        "outputId": "bf7287f3-bdf8-4c84-a842-ed89a9022ea0"
      },
      "execution_count": null,
      "outputs": [
        {
          "output_type": "stream",
          "name": "stdout",
          "text": [
            "[1, 2, 4, 5]\n"
          ]
        }
      ]
    },
    {
      "cell_type": "markdown",
      "source": [
        "9. Write a code to access the second element in the list ['a', 'b', 'c', 'd']."
      ],
      "metadata": {
        "id": "GWqcGh0Fhkwf"
      }
    },
    {
      "cell_type": "code",
      "source": [
        "L=['a', 'b', 'c', 'd']\n",
        "print(L[1])"
      ],
      "metadata": {
        "colab": {
          "base_uri": "https://localhost:8080/"
        },
        "id": "4iTsN2zwhvc3",
        "outputId": "727a5f8b-0ae3-4e67-9f62-637f46d9a4c9"
      },
      "execution_count": null,
      "outputs": [
        {
          "output_type": "stream",
          "name": "stdout",
          "text": [
            "b\n"
          ]
        }
      ]
    },
    {
      "cell_type": "markdown",
      "source": [
        "10.Write a code to reverse the list [10, 20, 30, 40, 50]."
      ],
      "metadata": {
        "id": "fq5YzDLBh5h_"
      }
    },
    {
      "cell_type": "code",
      "source": [
        "#method 1\n",
        "L=[10, 20, 30, 40, 50]\n",
        "L.reverse()\n",
        "print(L)"
      ],
      "metadata": {
        "colab": {
          "base_uri": "https://localhost:8080/"
        },
        "id": "4y5HFN5eiBH_",
        "outputId": "fff0bd22-993e-4e96-8c81-128dab0ea126"
      },
      "execution_count": null,
      "outputs": [
        {
          "output_type": "stream",
          "name": "stdout",
          "text": [
            "[50, 40, 30, 20, 10]\n"
          ]
        }
      ]
    },
    {
      "cell_type": "code",
      "source": [
        "#method 2\n",
        "L=[10, 20, 30, 40, 50]\n",
        "print(L[::-1])"
      ],
      "metadata": {
        "colab": {
          "base_uri": "https://localhost:8080/"
        },
        "id": "tnIJvkPCiMaf",
        "outputId": "c517bc87-1689-407a-d125-2cd35cdff022"
      },
      "execution_count": null,
      "outputs": [
        {
          "output_type": "stream",
          "name": "stdout",
          "text": [
            "[50, 40, 30, 20, 10]\n"
          ]
        }
      ]
    },
    {
      "cell_type": "code",
      "source": [
        "#method 3\n",
        "L=[10, 20, 30, 40, 50]\n",
        "rev=reversed(L)\n",
        "print(list(rev))\n"
      ],
      "metadata": {
        "colab": {
          "base_uri": "https://localhost:8080/"
        },
        "id": "g6vYtrPKiXy3",
        "outputId": "860d81cd-85f2-44dd-cfb8-74248f26b5bc"
      },
      "execution_count": null,
      "outputs": [
        {
          "output_type": "stream",
          "name": "stdout",
          "text": [
            "[50, 40, 30, 20, 10]\n"
          ]
        }
      ]
    },
    {
      "cell_type": "markdown",
      "source": [
        "11. Write a code to create a tuple with the elements 100, 200, 300 and print it."
      ],
      "metadata": {
        "id": "_ypBwOPMjhy3"
      }
    },
    {
      "cell_type": "code",
      "source": [
        "t=(100,200,300)\n",
        "print(t)"
      ],
      "metadata": {
        "colab": {
          "base_uri": "https://localhost:8080/"
        },
        "id": "7V3Y0fLAjn_I",
        "outputId": "2510ff0a-6d67-46ee-f7fe-0cac99ae6282"
      },
      "execution_count": null,
      "outputs": [
        {
          "output_type": "stream",
          "name": "stdout",
          "text": [
            "(100, 200, 300)\n"
          ]
        }
      ]
    },
    {
      "cell_type": "markdown",
      "source": [
        "12. Write a code to access the second-to-last element of the tuple ('red', 'green', 'blue', 'yellow')."
      ],
      "metadata": {
        "id": "PkXtOk0Jj-6n"
      }
    },
    {
      "cell_type": "code",
      "source": [
        "t=('red', 'green', 'blue', 'yellow')\n",
        "print(t[-2])"
      ],
      "metadata": {
        "colab": {
          "base_uri": "https://localhost:8080/"
        },
        "id": "hkdqTKNQkAuu",
        "outputId": "60ef4146-19b9-48a0-d7e0-1c912b761f7c"
      },
      "execution_count": null,
      "outputs": [
        {
          "output_type": "stream",
          "name": "stdout",
          "text": [
            "blue\n"
          ]
        }
      ]
    },
    {
      "cell_type": "markdown",
      "source": [
        "13. Write a code to find the minimum number in the tuple (10, 20, 5, 15).\n"
      ],
      "metadata": {
        "id": "j_BGKZKkk2KG"
      }
    },
    {
      "cell_type": "code",
      "source": [
        "t=(10, 20, 5, 15)\n",
        "min(t)"
      ],
      "metadata": {
        "colab": {
          "base_uri": "https://localhost:8080/"
        },
        "id": "Fqm06m5_k8q_",
        "outputId": "e220b64e-de3f-450f-ed1f-2a01869920a1"
      },
      "execution_count": null,
      "outputs": [
        {
          "output_type": "execute_result",
          "data": {
            "text/plain": [
              "5"
            ]
          },
          "metadata": {},
          "execution_count": 24
        }
      ]
    },
    {
      "cell_type": "markdown",
      "source": [
        "14. Write a code to find the index of the element \"cat\" in the tuple ('dog', 'cat', 'rabbit')."
      ],
      "metadata": {
        "id": "cFOVslrHlFLX"
      }
    },
    {
      "cell_type": "code",
      "source": [
        "t= ('dog', 'cat', 'rabbit')\n",
        "print(t.index(\"cat\"))"
      ],
      "metadata": {
        "colab": {
          "base_uri": "https://localhost:8080/"
        },
        "id": "sdKf5TBblG2o",
        "outputId": "30022dfa-c298-40a2-8e3b-78adbccb7afb"
      },
      "execution_count": null,
      "outputs": [
        {
          "output_type": "stream",
          "name": "stdout",
          "text": [
            "1\n"
          ]
        }
      ]
    },
    {
      "cell_type": "markdown",
      "source": [
        "15.Write a code to create a tuple containing three different fruits and check if \"kiwi\" is in it."
      ],
      "metadata": {
        "id": "k9PrnzhMlWDm"
      }
    },
    {
      "cell_type": "code",
      "source": [
        "t=(\"apple\",\"banana\",\"orange\")\n",
        "print(\"kiwi\" in t) #false since kiwi not in t"
      ],
      "metadata": {
        "colab": {
          "base_uri": "https://localhost:8080/"
        },
        "id": "UTm_bRJZlakH",
        "outputId": "52ac5237-ae2a-4b05-80e5-bddd977d1634"
      },
      "execution_count": null,
      "outputs": [
        {
          "output_type": "stream",
          "name": "stdout",
          "text": [
            "False\n"
          ]
        }
      ]
    },
    {
      "cell_type": "code",
      "source": [
        "t=(\"apple\",\"kiwi\",\"orange\")\n",
        "print(\"kiwi\" in t) #true since kiwi in t"
      ],
      "metadata": {
        "colab": {
          "base_uri": "https://localhost:8080/"
        },
        "id": "G2lWlEYcl1lf",
        "outputId": "439e9235-ea47-4338-a29a-59f0aabc44db"
      },
      "execution_count": null,
      "outputs": [
        {
          "output_type": "stream",
          "name": "stdout",
          "text": [
            "True\n"
          ]
        }
      ]
    },
    {
      "cell_type": "markdown",
      "source": [
        "16. Write a code to create a set with the elements 'a', 'b', 'c' and print it."
      ],
      "metadata": {
        "id": "3ErZ2xt-mF42"
      }
    },
    {
      "cell_type": "code",
      "source": [
        "s={'a','b','c','d'}\n",
        "print(s)\n",
        "type(s)"
      ],
      "metadata": {
        "colab": {
          "base_uri": "https://localhost:8080/"
        },
        "id": "ftvu2X4pmJyW",
        "outputId": "89072c73-d76c-4675-e0e0-bbf5fcbe9b65"
      },
      "execution_count": null,
      "outputs": [
        {
          "output_type": "stream",
          "name": "stdout",
          "text": [
            "{'d', 'a', 'c', 'b'}\n"
          ]
        },
        {
          "output_type": "execute_result",
          "data": {
            "text/plain": [
              "set"
            ]
          },
          "metadata": {},
          "execution_count": 29
        }
      ]
    },
    {
      "cell_type": "markdown",
      "source": [
        " 17.Write a code to clear all elements from the set {1, 2, 3, 4, 5}."
      ],
      "metadata": {
        "id": "RbxqhfmAmhT_"
      }
    },
    {
      "cell_type": "code",
      "source": [
        "s= {1, 2, 3, 4, 5}\n",
        "s.clear()\n",
        "print(s)\n",
        "\n"
      ],
      "metadata": {
        "colab": {
          "base_uri": "https://localhost:8080/"
        },
        "id": "8WocX2F5mnAv",
        "outputId": "1c61cf2d-4f1b-46a4-aba7-fb7cb0eb43f9"
      },
      "execution_count": null,
      "outputs": [
        {
          "output_type": "stream",
          "name": "stdout",
          "text": [
            "set()\n"
          ]
        }
      ]
    },
    {
      "cell_type": "markdown",
      "source": [
        "18. Write a code to remove the element 4 from the set {1, 2, 3, 4}."
      ],
      "metadata": {
        "id": "YPojsAIBnDYu"
      }
    },
    {
      "cell_type": "code",
      "source": [
        "s={1, 2, 3, 4}\n",
        "s.remove(4)\n",
        "print(s)\n"
      ],
      "metadata": {
        "colab": {
          "base_uri": "https://localhost:8080/"
        },
        "id": "BMTxmqzsnJrO",
        "outputId": "e85d609a-fcc8-4b46-96a7-95421b6782a2"
      },
      "execution_count": null,
      "outputs": [
        {
          "output_type": "stream",
          "name": "stdout",
          "text": [
            "{1, 2, 3}\n"
          ]
        }
      ]
    },
    {
      "cell_type": "markdown",
      "source": [
        "19. Write a code to find the union of two sets {1, 2, 3} and {3, 4, 5}."
      ],
      "metadata": {
        "id": "6fw0SSNbnsK-"
      }
    },
    {
      "cell_type": "code",
      "source": [
        "#method 1\n",
        "s1={1,2,3}\n",
        "s2={3,4,5}\n",
        "print(s1|s2)"
      ],
      "metadata": {
        "colab": {
          "base_uri": "https://localhost:8080/"
        },
        "id": "fBRkq1CVntbX",
        "outputId": "18d45be1-5c23-4f79-fd71-42dde424f0d2"
      },
      "execution_count": null,
      "outputs": [
        {
          "output_type": "stream",
          "name": "stdout",
          "text": [
            "{1, 2, 3, 4, 5}\n"
          ]
        }
      ]
    },
    {
      "cell_type": "code",
      "source": [
        "#method 2\n",
        "s1={1,2,3}\n",
        "s2={3,4,5}\n",
        "print(s1.union(s2))\n"
      ],
      "metadata": {
        "colab": {
          "base_uri": "https://localhost:8080/"
        },
        "id": "I-n9sogeoN3W",
        "outputId": "797392ed-ad63-4056-9695-ce54e8e0e459"
      },
      "execution_count": null,
      "outputs": [
        {
          "output_type": "stream",
          "name": "stdout",
          "text": [
            "{1, 2, 3, 4, 5}\n"
          ]
        }
      ]
    },
    {
      "cell_type": "markdown",
      "source": [
        "20. Write a code to find the intersection of two sets {1, 2, 3} and {2, 3, 4}"
      ],
      "metadata": {
        "id": "8gqAe61uoVOe"
      }
    },
    {
      "cell_type": "code",
      "source": [
        "#method 1\n",
        "s1={1, 2, 3}\n",
        "s2= {2, 3, 4}\n",
        "print(s1&s2)"
      ],
      "metadata": {
        "colab": {
          "base_uri": "https://localhost:8080/"
        },
        "id": "umWkGW74oYvm",
        "outputId": "a9260b4a-4a2a-4bbb-ce82-6f4b9e6cac3a"
      },
      "execution_count": null,
      "outputs": [
        {
          "output_type": "stream",
          "name": "stdout",
          "text": [
            "{2, 3}\n"
          ]
        }
      ]
    },
    {
      "cell_type": "code",
      "source": [
        "#method 2\n",
        "s1={1, 2, 3}\n",
        "s2= {2, 3, 4}\n",
        "print(s1.intersection(s2))"
      ],
      "metadata": {
        "colab": {
          "base_uri": "https://localhost:8080/"
        },
        "id": "rb93JxkOosHe",
        "outputId": "0ad63343-fb8b-4a29-a1c2-660b9d3778b4"
      },
      "execution_count": null,
      "outputs": [
        {
          "output_type": "stream",
          "name": "stdout",
          "text": [
            "{2, 3}\n"
          ]
        }
      ]
    },
    {
      "cell_type": "markdown",
      "source": [
        "21. Write a code to create a dictionary with the keys \"name\", \"age\", and \"city\", and print it"
      ],
      "metadata": {
        "id": "RdU7t_T1o9cu"
      }
    },
    {
      "cell_type": "code",
      "source": [
        "d={\"name\":\"Srivani\",\"age\":20,\"city\":\"Hyderabad\"}\n",
        "print(d)"
      ],
      "metadata": {
        "colab": {
          "base_uri": "https://localhost:8080/"
        },
        "id": "__2H50i_pAV_",
        "outputId": "069b1696-8497-4525-b4d9-d4cce0b6357d"
      },
      "execution_count": null,
      "outputs": [
        {
          "output_type": "stream",
          "name": "stdout",
          "text": [
            "{'name': 'Srivani', 'age': 20, 'city': 'Hyderabad'}\n"
          ]
        }
      ]
    },
    {
      "cell_type": "markdown",
      "source": [
        " 22.Write a code to add a new key-value pair \"country\": \"USA\" to the dictionary {'name': 'John', 'age': 25}.\n"
      ],
      "metadata": {
        "id": "AKlqqCwvpLHm"
      }
    },
    {
      "cell_type": "code",
      "source": [
        "d={'name': 'John', 'age': 25}\n",
        "d['country']='USA'\n",
        "print(d)"
      ],
      "metadata": {
        "colab": {
          "base_uri": "https://localhost:8080/"
        },
        "id": "L0zEIRD8pVAG",
        "outputId": "a927f327-0319-4741-d535-567ca427970a"
      },
      "execution_count": null,
      "outputs": [
        {
          "output_type": "stream",
          "name": "stdout",
          "text": [
            "{'name': 'John', 'age': 25, 'country': 'USA'}\n"
          ]
        }
      ]
    },
    {
      "cell_type": "markdown",
      "source": [
        "23. Write a code to access the value associated with the key \"name\" in the dictionary {'name': 'Alice', 'age': 30}."
      ],
      "metadata": {
        "id": "gKXzCy0pqKi3"
      }
    },
    {
      "cell_type": "code",
      "source": [
        "d={'name': 'Alice', 'age': 30}\n",
        "print(d['name'])"
      ],
      "metadata": {
        "colab": {
          "base_uri": "https://localhost:8080/"
        },
        "id": "CyEnV7y6qMUu",
        "outputId": "41905c2c-fbde-43c6-80cb-f0d6859927d7"
      },
      "execution_count": null,
      "outputs": [
        {
          "output_type": "stream",
          "name": "stdout",
          "text": [
            "Alice\n"
          ]
        }
      ]
    },
    {
      "cell_type": "markdown",
      "source": [
        " 24.Write a code to remove the key \"age\" from the dictionary {'name': 'Bob', 'age': 22, 'city': 'New York'}."
      ],
      "metadata": {
        "id": "M5m5A-pMqdG-"
      }
    },
    {
      "cell_type": "code",
      "source": [
        "d={'name': 'Bob', 'age': 22, 'city': 'New York'}\n",
        "del d['age']\n",
        "print(d)"
      ],
      "metadata": {
        "colab": {
          "base_uri": "https://localhost:8080/"
        },
        "id": "8J_7KMioq4SX",
        "outputId": "8511fce8-1771-4b13-87d1-7fd239a75a43"
      },
      "execution_count": null,
      "outputs": [
        {
          "output_type": "stream",
          "name": "stdout",
          "text": [
            "{'name': 'Bob', 'city': 'New York'}\n"
          ]
        }
      ]
    },
    {
      "cell_type": "markdown",
      "source": [
        "25. Write a code to check if the key \"city\" exists in the dictionary {'name': 'Alice', 'city': 'Paris'}.\n",
        "\n"
      ],
      "metadata": {
        "id": "-U0CmsAjrDZ2"
      }
    },
    {
      "cell_type": "code",
      "source": [
        "d={'name': 'Alice', 'city': 'Paris'}\n",
        "if 'city' in d:\n",
        "  print(\"city exists\")\n",
        "else:\n",
        "  print(\"city doesn't exists\")"
      ],
      "metadata": {
        "colab": {
          "base_uri": "https://localhost:8080/"
        },
        "id": "TAgIQPP_rNe3",
        "outputId": "626981d4-630c-4045-85d7-56f0f5f6bad8"
      },
      "execution_count": null,
      "outputs": [
        {
          "output_type": "stream",
          "name": "stdout",
          "text": [
            "city exists\n"
          ]
        }
      ]
    },
    {
      "cell_type": "markdown",
      "source": [
        "26. Write a code to create a list, a tuple, and a dictionary, and print them all."
      ],
      "metadata": {
        "id": "q4Hf52rJrukn"
      }
    },
    {
      "cell_type": "code",
      "source": [
        "L=[1,2,3,4,5,'@']\n",
        "t=(\"srivani\",1,2,3,\"4\")\n",
        "d={'name':\"srivani\",'age':20,'id':123}\n",
        "print(\"list =\",L)\n",
        "print(\"tuple =\",t)\n",
        "print(\"dictionary =\",d)"
      ],
      "metadata": {
        "colab": {
          "base_uri": "https://localhost:8080/"
        },
        "id": "0crSd-kqr5nF",
        "outputId": "11cbae60-b00f-4f3e-da84-9ed6d6d36208"
      },
      "execution_count": null,
      "outputs": [
        {
          "output_type": "stream",
          "name": "stdout",
          "text": [
            "list = [1, 2, 3, 4, 5, '@']\n",
            "tuple = ('srivani', 1, 2, 3, '4')\n",
            "dictionary = {'name': 'srivani', 'age': 20, 'id': 123}\n"
          ]
        }
      ]
    },
    {
      "cell_type": "markdown",
      "source": [
        "27. Write a code to create a list of 5 random numbers between 1 and 100, sort it in ascending order, and print the\n",
        "result.(replaced)\n",
        "\n"
      ],
      "metadata": {
        "id": "hKtkW83DslpH"
      }
    },
    {
      "cell_type": "code",
      "source": [
        "import random\n",
        "num=[random.randint(1,100) for _ in range(5)]\n",
        "num.sort()\n",
        "print(num)\n"
      ],
      "metadata": {
        "colab": {
          "base_uri": "https://localhost:8080/"
        },
        "id": "YHwCkiIhs5wt",
        "outputId": "00304b61-3fa1-48c4-daad-5bc0de321d82"
      },
      "execution_count": null,
      "outputs": [
        {
          "output_type": "stream",
          "name": "stdout",
          "text": [
            "[10, 19, 41, 59, 81]\n"
          ]
        }
      ]
    },
    {
      "cell_type": "markdown",
      "source": [
        "28. Write a code to create a list with strings and print the element at the third index."
      ],
      "metadata": {
        "id": "230pmiQMthKR"
      }
    },
    {
      "cell_type": "code",
      "source": [
        "L=[\"apple\",\"banana\",\"mango\",\"guava\",\"orange\"]\n",
        "print(L[3])"
      ],
      "metadata": {
        "colab": {
          "base_uri": "https://localhost:8080/"
        },
        "id": "J2T3_MCUtioe",
        "outputId": "408c56ef-716f-40c6-f77e-386faa9793c4"
      },
      "execution_count": null,
      "outputs": [
        {
          "output_type": "stream",
          "name": "stdout",
          "text": [
            "guava\n"
          ]
        }
      ]
    },
    {
      "cell_type": "markdown",
      "source": [
        "29. Write a code to combine two dictionaries into one and print the result."
      ],
      "metadata": {
        "id": "swkjXe7Pt8_X"
      }
    },
    {
      "cell_type": "code",
      "source": [
        "#method 1\n",
        "student={'name':\"Srivani\",'class':3,'id':123}\n",
        "subject={'course':'data analytics','duration':'6 months'}\n",
        "student.update(subject)\n",
        "print(student)\n"
      ],
      "metadata": {
        "colab": {
          "base_uri": "https://localhost:8080/"
        },
        "id": "IEN97am6uEBX",
        "outputId": "dffa1755-8e4f-463e-c27b-99df39a7798c"
      },
      "execution_count": null,
      "outputs": [
        {
          "output_type": "stream",
          "name": "stdout",
          "text": [
            "{'name': 'Srivani', 'class': 3, 'id': 123, 'course': 'data analytics', 'duration': '6 months'}\n"
          ]
        }
      ]
    },
    {
      "cell_type": "code",
      "source": [
        "#method 2\n",
        "student={'name':\"Srivani\",'class':3,'id':123}\n",
        "subject={'course':'data analytics','duration':'6 months'}\n",
        "d={**student,**subject}\n",
        "print(d)"
      ],
      "metadata": {
        "colab": {
          "base_uri": "https://localhost:8080/"
        },
        "id": "fFiWo-gHwbyv",
        "outputId": "9379beb0-bfdb-4b8c-f64e-fe8577c8b1b9"
      },
      "execution_count": null,
      "outputs": [
        {
          "output_type": "stream",
          "name": "stdout",
          "text": [
            "{'name': 'Srivani', 'class': 3, 'id': 123, 'course': 'data analytics', 'duration': '6 months'}\n"
          ]
        }
      ]
    },
    {
      "cell_type": "markdown",
      "source": [
        "30. Write a code to convert a list of strings into a set"
      ],
      "metadata": {
        "id": "MM_kpy8dwlYW"
      }
    },
    {
      "cell_type": "code",
      "source": [
        "L=[\"rose\",\"tulips\",\"sunflower\",\"lotus\",\"Lily\"]\n",
        "print(L)\n",
        "type(L)\n",
        "s=set(L)\n",
        "print(s)\n",
        "type(s)"
      ],
      "metadata": {
        "colab": {
          "base_uri": "https://localhost:8080/"
        },
        "id": "aKD7sVC9wpgF",
        "outputId": "6b5bbfbc-260a-47ea-9784-5e3ef048efce"
      },
      "execution_count": null,
      "outputs": [
        {
          "output_type": "stream",
          "name": "stdout",
          "text": [
            "['rose', 'tulips', 'sunflower', 'lotus', 'Lily']\n",
            "{'Lily', 'rose', 'lotus', 'sunflower', 'tulips'}\n"
          ]
        },
        {
          "output_type": "execute_result",
          "data": {
            "text/plain": [
              "set"
            ]
          },
          "metadata": {},
          "execution_count": 79
        }
      ]
    }
  ]
}